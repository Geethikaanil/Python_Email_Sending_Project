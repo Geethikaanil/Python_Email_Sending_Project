{
  "nbformat": 4,
  "nbformat_minor": 0,
  "metadata": {
    "colab": {
      "name": "Python_project2.ipynb",
      "provenance": [],
      "collapsed_sections": [],
      "authorship_tag": "ABX9TyOIeV60Cz4pHDGTYGbgFoQd",
      "include_colab_link": true
    },
    "kernelspec": {
      "name": "python3",
      "display_name": "Python 3"
    }
  },
  "cells": [
    {
      "cell_type": "markdown",
      "metadata": {
        "id": "view-in-github",
        "colab_type": "text"
      },
      "source": [
        "<a href=\"https://colab.research.google.com/github/Geethikaanil/Python_Email_Sending_Project/blob/main/Python_project2.ipynb\" target=\"_parent\"><img src=\"https://colab.research.google.com/assets/colab-badge.svg\" alt=\"Open In Colab\"/></a>"
      ]
    },
    {
      "cell_type": "code",
      "metadata": {
        "colab": {
          "base_uri": "https://localhost:8080/"
        },
        "id": "q9QZbOXs1iKJ",
        "outputId": "487cd2b3-937e-49a7-ce69-975273c6a431"
      },
      "source": [
        "!pip install emails"
      ],
      "execution_count": 46,
      "outputs": [
        {
          "output_type": "stream",
          "text": [
            "Requirement already satisfied: emails in /usr/local/lib/python3.6/dist-packages (0.6)\n",
            "Requirement already satisfied: chardet in /usr/local/lib/python3.6/dist-packages (from emails) (3.0.4)\n",
            "Requirement already satisfied: cssutils in /usr/local/lib/python3.6/dist-packages (from emails) (1.0.2)\n",
            "Requirement already satisfied: premailer in /usr/local/lib/python3.6/dist-packages (from emails) (3.7.0)\n",
            "Requirement already satisfied: python-dateutil in /usr/local/lib/python3.6/dist-packages (from emails) (2.8.1)\n",
            "Requirement already satisfied: requests in /usr/local/lib/python3.6/dist-packages (from emails) (2.23.0)\n",
            "Requirement already satisfied: lxml in /usr/local/lib/python3.6/dist-packages (from emails) (4.2.6)\n",
            "Requirement already satisfied: cssselect in /usr/local/lib/python3.6/dist-packages (from premailer->emails) (1.1.0)\n",
            "Requirement already satisfied: cachetools in /usr/local/lib/python3.6/dist-packages (from premailer->emails) (4.2.0)\n",
            "Requirement already satisfied: six>=1.5 in /usr/local/lib/python3.6/dist-packages (from python-dateutil->emails) (1.15.0)\n",
            "Requirement already satisfied: urllib3!=1.25.0,!=1.25.1,<1.26,>=1.21.1 in /usr/local/lib/python3.6/dist-packages (from requests->emails) (1.24.3)\n",
            "Requirement already satisfied: certifi>=2017.4.17 in /usr/local/lib/python3.6/dist-packages (from requests->emails) (2020.12.5)\n",
            "Requirement already satisfied: idna<3,>=2.5 in /usr/local/lib/python3.6/dist-packages (from requests->emails) (2.10)\n"
          ],
          "name": "stdout"
        }
      ]
    },
    {
      "cell_type": "code",
      "metadata": {
        "id": "Et7aVSGu1y2I"
      },
      "source": [
        "import emails"
      ],
      "execution_count": 48,
      "outputs": []
    },
    {
      "cell_type": "code",
      "metadata": {
        "id": "GyJsd1J53C7S"
      },
      "source": [
        "html_text='''<p><strong><span style=\"color: rgb(26, 188, 156); background-color: rgb(0, 0, 0);\">Hell guys!!</span></strong></p>\r\n",
        "             <p><span style=\"background-color: rgb(0, 0, 0);\"><span style=\"color: rgb(26, 188, 156);\"><strong>This is me Geethika</strong></span></span></p>\r\n",
        "             <p><span style=\"background-color: rgb(0, 0, 0);\"><span style=\"color: rgb(26, 188, 156);\"><strong>How are you all</strong></span></span></p>\r\n",
        "             <p><span style=\"background-color: rgb(0, 0, 0);\"><span style=\"color: rgb(26, 188, 156);\"><strong>Am really excited to do this project!!</strong></span></span></p>\r\n",
        "             <p><span style=\"background-color: rgb(0, 0, 0);\"><span style=\"color: rgb(26, 188, 156);\"><strong><br></strong></span></span></p>\r\n",
        "             <p><span style=\"background-color: rgb(0, 0, 0);\"><span style=\"color: rgb(26, 188, 156);\"><strong>Regards,</strong></span></span></p>\r\n",
        "             <p><strong><span style=\"color: rgb(26, 188, 156); background-color: rgb(0, 0, 0);\">Geethika</span></strong></p>'''\r\n",
        "\r\n",
        "message = emails.html(html=html_text,\r\n",
        "                      subject=\"Your Email from python script\",\r\n",
        "                      mail_from=('Rowdy','geethu1239.com'))"
      ],
      "execution_count": 64,
      "outputs": []
    },
    {
      "cell_type": "code",
      "metadata": {
        "id": "kAzskGuDO6Aj"
      },
      "source": [
        "mail_via_python=message.send(to='rahihel604@febeks.com',\r\n",
        "                             smtp={'host':'smtp.gmail.com',\r\n",
        "                                   'timeout':5,\r\n",
        "                                   'port':587,\r\n",
        "                                   'user':'geethu1239@gmail.com',\r\n",
        "                                   'password':'geethu00@',\r\n",
        "                                   'tls':True})"
      ],
      "execution_count": 65,
      "outputs": []
    },
    {
      "cell_type": "code",
      "metadata": {
        "colab": {
          "base_uri": "https://localhost:8080/"
        },
        "id": "r2tUPCGcSVio",
        "outputId": "867fc8da-2dd1-4723-ad64-8f560098e026"
      },
      "source": [
        "mail_via_python.status_code"
      ],
      "execution_count": 66,
      "outputs": [
        {
          "output_type": "execute_result",
          "data": {
            "text/plain": [
              "250"
            ]
          },
          "metadata": {
            "tags": []
          },
          "execution_count": 66
        }
      ]
    },
    {
      "cell_type": "code",
      "metadata": {
        "id": "eIK-omxIShVh"
      },
      "source": [
        "def sendMail(email,name):\r\n",
        "   html_text='''<p><strong><span style=\"color: rgb(26, 188, 156); background-color: rgb(0, 0, 0);\">Hell guys!!</span></strong></p>\r\n",
        "               <p><span style=\"background-color: rgb(0, 0, 0);\"><span style=\"color: rgb(26, 188, 156);\"><strong>This is me Geethika</strong></span></span></p>\r\n",
        "               <p><span style=\"background-color: rgb(0, 0, 0);\"><span style=\"color: rgb(26, 188, 156);\"><strong>How are you all</strong></span></span></p>\r\n",
        "               <p><span style=\"background-color: rgb(0, 0, 0);\"><span style=\"color: rgb(26, 188, 156);\"><strong>Am really excited to do this project!!</strong></span></span></p>\r\n",
        "               <p><span style=\"background-color: rgb(0, 0, 0);\"><span style=\"color: rgb(26, 188, 156);\"><strong><br></strong></span></span></p>\r\n",
        "               <p><span style=\"background-color: rgb(0, 0, 0);\"><span style=\"color: rgb(26, 188, 156);\"><strong>Regards,</strong></span></span></p>\r\n",
        "               <p><strong><span style=\"color: rgb(26, 188, 156); background-color: rgb(0, 0, 0);\">Geethika</span></strong></p>'''\r\n",
        "\r\n",
        "   subject=\"Roedy\"+name+\",you have a mail from geethu\"\r\n",
        "   message = emails.html(html=html_text,\r\n",
        "                      subject=subject,\r\n",
        "                      mail_from=('Rowdy','geethu1239.com'))\r\n",
        "   mail_via_python=message.send(to=email,\r\n",
        "                               smtp={'host':'smpt.gmail.com',\r\n",
        "                                   'timeout':5,\r\n",
        "                                   'port':587,\r\n",
        "                                   'user':'geethu1239@gmail.com',\r\n",
        "                                   'password':'geethu00@',\r\n",
        "                                   'tls':True})\r\n",
        "   return mail_via_python.status_code\r\n"
      ],
      "execution_count": 71,
      "outputs": []
    },
    {
      "cell_type": "code",
      "metadata": {
        "id": "WC8yi4slVVke"
      },
      "source": [
        "sendMail(\"rahihel604@febeks.com\",\"Geethu\")"
      ],
      "execution_count": 74,
      "outputs": []
    }
  ]
}